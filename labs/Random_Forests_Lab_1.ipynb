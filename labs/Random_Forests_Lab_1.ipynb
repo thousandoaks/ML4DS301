{
  "nbformat": 4,
  "nbformat_minor": 0,
  "metadata": {
    "colab": {
      "provenance": [],
      "authorship_tag": "ABX9TyORAMR/5TC9jOmWiFZkLtSk"
    },
    "kernelspec": {
      "name": "python3",
      "display_name": "Python 3"
    },
    "language_info": {
      "name": "python"
    }
  },
  "cells": [
    {
      "cell_type": "markdown",
      "source": [
        "# Random Forests Lab 1"
      ],
      "metadata": {
        "id": "1lj3TzpHGJBJ"
      }
    },
    {
      "cell_type": "code",
      "source": [],
      "metadata": {
        "id": "HEi7dPu1FeH7"
      },
      "execution_count": null,
      "outputs": []
    },
    {
      "cell_type": "markdown",
      "source": [
        "### Intro and objectives\n",
        "\n",
        "\n",
        "### In this lab you will learn:\n",
        "1. a basic example of a random forest classifier\n",
        "### What I hope you'll get out of this lab\n",
        "* Worked Examples\n",
        "* How to interpret the results obtained"
      ],
      "metadata": {
        "id": "wSvgrMb0GOl3"
      }
    },
    {
      "cell_type": "code",
      "execution_count": 1,
      "metadata": {
        "id": "CmrYHpN_GAUd"
      },
      "outputs": [],
      "source": [
        "import sys\n",
        "\n",
        "assert sys.version_info >= (3, 7)"
      ]
    },
    {
      "cell_type": "code",
      "source": [
        "from packaging import version\n",
        "import sklearn\n",
        "\n",
        "assert version.parse(sklearn.__version__) >= version.parse(\"1.0.1\")"
      ],
      "metadata": {
        "id": "2BLNJqNkGcnw"
      },
      "execution_count": 2,
      "outputs": []
    },
    {
      "cell_type": "markdown",
      "source": [
        "### In this lab we will learn how build a random forest-based classifier\n",
        "#### A Random Forest is equivalent to a bag of decision trees"
      ],
      "metadata": {
        "id": "fDH-Qy6uGlNh"
      }
    },
    {
      "cell_type": "code",
      "source": [],
      "metadata": {
        "id": "ggPnGb6xGcjU"
      },
      "execution_count": null,
      "outputs": []
    },
    {
      "cell_type": "code",
      "source": [
        "from sklearn.datasets import make_moons\n",
        "from sklearn.model_selection import train_test_split\n",
        "from sklearn.tree import DecisionTreeClassifier\n",
        "from sklearn.ensemble import RandomForestClassifier"
      ],
      "metadata": {
        "id": "Lmdll_-lu7sv"
      },
      "execution_count": 23,
      "outputs": []
    },
    {
      "cell_type": "markdown",
      "source": [
        "## Let's create some synthetic data"
      ],
      "metadata": {
        "id": "vXlmJB_wHwUP"
      }
    },
    {
      "cell_type": "code",
      "source": [
        "X, y = make_moons(n_samples=500, noise=0.30, random_state=42)\n",
        "X_train, X_test, y_train, y_test = train_test_split(X, y, random_state=42)"
      ],
      "metadata": {
        "id": "ZbzL1NQsGcgt"
      },
      "execution_count": 4,
      "outputs": []
    },
    {
      "cell_type": "markdown",
      "source": [
        "## Let's create and train a random forest-based classifier consisted of 1000 trees each limited to maximum 16 leaf nodes."
      ],
      "metadata": {
        "id": "BRqJ0bkvIHWe"
      }
    },
    {
      "cell_type": "code",
      "source": [
        "\n",
        "\n",
        "rnd_clf = RandomForestClassifier(n_estimators=1000, max_leaf_nodes=16,\n",
        "                                 n_jobs=-1, random_state=42)\n",
        "rnd_clf.fit(X_train, y_train)\n"
      ],
      "metadata": {
        "colab": {
          "base_uri": "https://localhost:8080/"
        },
        "id": "25cotjGsIBhf",
        "outputId": "b4a6da57-3825-435e-ee9d-af22be2b84b5"
      },
      "execution_count": 13,
      "outputs": [
        {
          "output_type": "execute_result",
          "data": {
            "text/plain": [
              "RandomForestClassifier(max_leaf_nodes=16, n_estimators=1000, n_jobs=-1,\n",
              "                       random_state=42)"
            ]
          },
          "metadata": {},
          "execution_count": 13
        }
      ]
    },
    {
      "cell_type": "code",
      "source": [],
      "metadata": {
        "id": "Bu1vfqmcvq3t"
      },
      "execution_count": 13,
      "outputs": []
    },
    {
      "cell_type": "markdown",
      "source": [
        "## Let's run some predictions"
      ],
      "metadata": {
        "id": "XvxQZiHrv_6H"
      }
    },
    {
      "cell_type": "code",
      "source": [
        "X_test[0:10]"
      ],
      "metadata": {
        "colab": {
          "base_uri": "https://localhost:8080/"
        },
        "id": "I04BLO8Cvqwa",
        "outputId": "83dcadad-fece-4853-9d35-8ee429f47554"
      },
      "execution_count": 14,
      "outputs": [
        {
          "output_type": "execute_result",
          "data": {
            "text/plain": [
              "array([[ 0.50169252,  0.21717211],\n",
              "       [ 0.22740469,  0.5899372 ],\n",
              "       [ 0.26816663,  0.43111374],\n",
              "       [ 1.31270833, -0.59523574],\n",
              "       [ 0.41835564, -0.3826774 ],\n",
              "       [ 0.53680639, -0.32084028],\n",
              "       [-0.19975183,  1.43509879],\n",
              "       [-0.85385457,  0.71924064],\n",
              "       [-0.57050579,  0.00411171],\n",
              "       [-0.67806633,  0.74946744]])"
            ]
          },
          "metadata": {},
          "execution_count": 14
        }
      ]
    },
    {
      "cell_type": "code",
      "source": [
        "y_test[0:10]"
      ],
      "metadata": {
        "colab": {
          "base_uri": "https://localhost:8080/"
        },
        "id": "GSlzbXFqvqtj",
        "outputId": "ae3645aa-4311-45ab-ef70-1d6c7e9dadc6"
      },
      "execution_count": 15,
      "outputs": [
        {
          "output_type": "execute_result",
          "data": {
            "text/plain": [
              "array([1, 1, 1, 1, 1, 1, 0, 0, 0, 0])"
            ]
          },
          "metadata": {},
          "execution_count": 15
        }
      ]
    },
    {
      "cell_type": "code",
      "source": [
        "rnd_clf.predict([X_test[0]])"
      ],
      "metadata": {
        "colab": {
          "base_uri": "https://localhost:8080/"
        },
        "id": "qPBJIRx-vqqs",
        "outputId": "4105cb4c-2823-4b32-ac39-4b4d244b04db"
      },
      "execution_count": 16,
      "outputs": [
        {
          "output_type": "execute_result",
          "data": {
            "text/plain": [
              "array([0])"
            ]
          },
          "metadata": {},
          "execution_count": 16
        }
      ]
    },
    {
      "cell_type": "code",
      "source": [
        "rnd_clf.predict([X_test[9]])"
      ],
      "metadata": {
        "colab": {
          "base_uri": "https://localhost:8080/"
        },
        "id": "KqeLvry1vqlE",
        "outputId": "03b5fd8a-4c56-47f3-cae7-f7777dc02978"
      },
      "execution_count": 17,
      "outputs": [
        {
          "output_type": "execute_result",
          "data": {
            "text/plain": [
              "array([0])"
            ]
          },
          "metadata": {},
          "execution_count": 17
        }
      ]
    },
    {
      "cell_type": "code",
      "source": [
        "rnd_clf.predict(X_test[0:10])"
      ],
      "metadata": {
        "colab": {
          "base_uri": "https://localhost:8080/"
        },
        "id": "mqJB6Bhtvqfi",
        "outputId": "badf538a-5655-4edb-fde0-df65084fc9a9"
      },
      "execution_count": 18,
      "outputs": [
        {
          "output_type": "execute_result",
          "data": {
            "text/plain": [
              "array([0, 0, 0, 1, 1, 1, 0, 0, 0, 0])"
            ]
          },
          "metadata": {},
          "execution_count": 18
        }
      ]
    },
    {
      "cell_type": "code",
      "source": [],
      "metadata": {
        "id": "2OlOlVtDx50b"
      },
      "execution_count": 18,
      "outputs": []
    },
    {
      "cell_type": "markdown",
      "source": [
        "## Let's evauate the performance"
      ],
      "metadata": {
        "id": "1EVToL2QyHof"
      }
    },
    {
      "cell_type": "code",
      "source": [
        "rnd_clf.score(X_test, y_test)"
      ],
      "metadata": {
        "colab": {
          "base_uri": "https://localhost:8080/"
        },
        "id": "aXtWx976x5ve",
        "outputId": "cc486e57-423b-44c6-ac6b-bc113ac18f5e"
      },
      "execution_count": 19,
      "outputs": [
        {
          "output_type": "execute_result",
          "data": {
            "text/plain": [
              "0.92"
            ]
          },
          "metadata": {},
          "execution_count": 19
        }
      ]
    },
    {
      "cell_type": "code",
      "source": [],
      "metadata": {
        "id": "e2jbXTSASpAr"
      },
      "execution_count": 19,
      "outputs": []
    },
    {
      "cell_type": "markdown",
      "source": [
        "## Let's visualize the boundaries of the bagging ensemble"
      ],
      "metadata": {
        "id": "6uwVVqCw21la"
      }
    },
    {
      "cell_type": "code",
      "source": [
        "import matplotlib.pyplot as plt\n",
        "import numpy as np\n",
        "\n",
        "plt.rc('font', size=14)\n",
        "plt.rc('axes', labelsize=14, titlesize=14)\n",
        "plt.rc('legend', fontsize=14)\n",
        "plt.rc('xtick', labelsize=10)\n",
        "plt.rc('ytick', labelsize=10)"
      ],
      "metadata": {
        "id": "xVuLtuGt3N56"
      },
      "execution_count": 20,
      "outputs": []
    },
    {
      "cell_type": "code",
      "source": [
        "def plot_decision_boundary(clf, X, y, alpha=1.0):\n",
        "    axes=[-1.5, 2.4, -1, 1.5]\n",
        "    x1, x2 = np.meshgrid(np.linspace(axes[0], axes[1], 100),\n",
        "                         np.linspace(axes[2], axes[3], 100))\n",
        "    X_new = np.c_[x1.ravel(), x2.ravel()]\n",
        "    y_pred = clf.predict(X_new).reshape(x1.shape)\n",
        "    \n",
        "    plt.contourf(x1, x2, y_pred, alpha=0.3 * alpha, cmap='Wistia')\n",
        "    plt.contour(x1, x2, y_pred, cmap=\"Greys\", alpha=0.8 * alpha)\n",
        "    colors = [\"#78785c\", \"#c47b27\"]\n",
        "    markers = (\"o\", \"^\")\n",
        "    for idx in (0, 1):\n",
        "        plt.plot(X[:, 0][y == idx], X[:, 1][y == idx],\n",
        "                 color=colors[idx], marker=markers[idx], linestyle=\"none\")\n",
        "    plt.axis(axes)\n",
        "    plt.xlabel(r\"$x_1$\")\n",
        "    plt.ylabel(r\"$x_2$\", rotation=0)"
      ],
      "metadata": {
        "id": "osH1Ba6N4rih"
      },
      "execution_count": 21,
      "outputs": []
    },
    {
      "cell_type": "code",
      "source": [
        "tree_clf = DecisionTreeClassifier(random_state=42)\n",
        "tree_clf.fit(X_train, y_train)\n",
        "\n",
        "fig, axes = plt.subplots(ncols=2, figsize=(10, 4), sharey=True)\n",
        "plt.sca(axes[0])\n",
        "plot_decision_boundary(tree_clf, X_train, y_train)\n",
        "plt.title(\"Decision Tree\")\n",
        "plt.sca(axes[1])\n",
        "plot_decision_boundary(rnd_clf, X_train, y_train)\n",
        "plt.title(\"Random Forest\")\n",
        "plt.ylabel(\"\")\n",
        "\n",
        "plt.show()"
      ],
      "metadata": {
        "colab": {
          "base_uri": "https://localhost:8080/",
          "height": 301
        },
        "id": "YXYahAAZ3IH4",
        "outputId": "7b9567c1-9518-45b2-e55b-7581567901d0"
      },
      "execution_count": 25,
      "outputs": [
        {
          "output_type": "display_data",
          "data": {
            "text/plain": [
              "<Figure size 720x288 with 2 Axes>"
            ],
            "image/png": "[encoded data removed]"
          },
          "metadata": {
            "needs_background": "light"
          }
        }
      ]
    },
    {
      "cell_type": "code",
      "source": [],
      "metadata": {
        "id": "HwGza9j93XEX"
      },
      "execution_count": null,
      "outputs": []
    }
  ]
}