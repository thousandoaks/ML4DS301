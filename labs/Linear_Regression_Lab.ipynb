{
  "nbformat": 4,
  "nbformat_minor": 0,
  "metadata": {
    "colab": {
      "provenance": []
    },
    "kernelspec": {
      "name": "python3",
      "display_name": "Python 3"
    },
    "language_info": {
      "name": "python"
    }
  },
  "cells": [
    {
      "cell_type": "markdown",
      "source": [
        "# Linear Regression Lab"
      ],
      "metadata": {
        "id": "9Koy8IdCva-p"
      }
    },
    {
      "cell_type": "markdown",
      "source": [
        "### Intro and objectives\n",
        "\n",
        "\n",
        "### In this lab you will learn:\n",
        "1. an complete example of training and testing linear regression models\n",
        "\n",
        "## What I hope you'll get out of this lab\n",
        "* Worked Examples\n",
        "* How to interpret the results obtained"
      ],
      "metadata": {
        "id": "DiOUGkzJvkIq"
      }
    },
    {
      "cell_type": "code",
      "source": [
        "import numpy as np\n",
        "import pandas as pd\n",
        "from sklearn.model_selection import train_test_split\n",
        "from sklearn.tree import DecisionTreeRegressor\n",
        "from sklearn.metrics import mean_absolute_error\n",
        "from sklearn.linear_model import LinearRegression\n"
      ],
      "metadata": {
        "id": "TfXjgbY5ltra"
      },
      "execution_count": 1,
      "outputs": []
    },
    {
      "cell_type": "code",
      "source": [
        "\n",
        "\n",
        "# Load data\n",
        "\n",
        "melbourne_data = pd.read_csv('https://raw.githubusercontent.com/thousandoaks/ML4DS301/main/data/melb_data.csv') \n",
        "melbourne_data"
      ],
      "metadata": {
        "id": "A23_Nm3muWap",
        "colab": {
          "base_uri": "https://localhost:8080/",
          "height": 713
        },
        "outputId": "a951772b-0a4c-40a0-842f-6c0bc2901a0f"
      },
      "execution_count": 2,
      "outputs": [
        {
          "output_type": "execute_result",
          "data": {
            "text/plain": [
              "              Suburb           Address  Rooms Type      Price Method  \\\n",
              "0         Abbotsford      85 Turner St      2    h  1480000.0      S   \n",
              "1         Abbotsford   25 Bloomburg St      2    h  1035000.0      S   \n",
              "2         Abbotsford      5 Charles St      3    h  1465000.0     SP   \n",
              "3         Abbotsford  40 Federation La      3    h   850000.0     PI   \n",
              "4         Abbotsford       55a Park St      4    h  1600000.0     VB   \n",
              "...              ...               ...    ...  ...        ...    ...   \n",
              "13575  Wheelers Hill      12 Strada Cr      4    h  1245000.0      S   \n",
              "13576   Williamstown     77 Merrett Dr      3    h  1031000.0     SP   \n",
              "13577   Williamstown       83 Power St      3    h  1170000.0      S   \n",
              "13578   Williamstown      96 Verdon St      4    h  2500000.0     PI   \n",
              "13579     Yarraville        6 Agnes St      4    h  1285000.0     SP   \n",
              "\n",
              "        SellerG        Date  Distance  Postcode  ...  Bathroom  Car  Landsize  \\\n",
              "0        Biggin   3/12/2016       2.5    3067.0  ...       1.0  1.0     202.0   \n",
              "1        Biggin   4/02/2016       2.5    3067.0  ...       1.0  0.0     156.0   \n",
              "2        Biggin   4/03/2017       2.5    3067.0  ...       2.0  0.0     134.0   \n",
              "3        Biggin   4/03/2017       2.5    3067.0  ...       2.0  1.0      94.0   \n",
              "4        Nelson   4/06/2016       2.5    3067.0  ...       1.0  2.0     120.0   \n",
              "...         ...         ...       ...       ...  ...       ...  ...       ...   \n",
              "13575     Barry  26/08/2017      16.7    3150.0  ...       2.0  2.0     652.0   \n",
              "13576  Williams  26/08/2017       6.8    3016.0  ...       2.0  2.0     333.0   \n",
              "13577     Raine  26/08/2017       6.8    3016.0  ...       2.0  4.0     436.0   \n",
              "13578   Sweeney  26/08/2017       6.8    3016.0  ...       1.0  5.0     866.0   \n",
              "13579   Village  26/08/2017       6.3    3013.0  ...       1.0  1.0     362.0   \n",
              "\n",
              "       BuildingArea  YearBuilt  CouncilArea Lattitude  Longtitude  \\\n",
              "0               NaN        NaN        Yarra -37.79960   144.99840   \n",
              "1              79.0     1900.0        Yarra -37.80790   144.99340   \n",
              "2             150.0     1900.0        Yarra -37.80930   144.99440   \n",
              "3               NaN        NaN        Yarra -37.79690   144.99690   \n",
              "4             142.0     2014.0        Yarra -37.80720   144.99410   \n",
              "...             ...        ...          ...       ...         ...   \n",
              "13575           NaN     1981.0          NaN -37.90562   145.16761   \n",
              "13576         133.0     1995.0          NaN -37.85927   144.87904   \n",
              "13577           NaN     1997.0          NaN -37.85274   144.88738   \n",
              "13578         157.0     1920.0          NaN -37.85908   144.89299   \n",
              "13579         112.0     1920.0          NaN -37.81188   144.88449   \n",
              "\n",
              "                       Regionname Propertycount  \n",
              "0           Northern Metropolitan        4019.0  \n",
              "1           Northern Metropolitan        4019.0  \n",
              "2           Northern Metropolitan        4019.0  \n",
              "3           Northern Metropolitan        4019.0  \n",
              "4           Northern Metropolitan        4019.0  \n",
              "...                           ...           ...  \n",
              "13575  South-Eastern Metropolitan        7392.0  \n",
              "13576        Western Metropolitan        6380.0  \n",
              "13577        Western Metropolitan        6380.0  \n",
              "13578        Western Metropolitan        6380.0  \n",
              "13579        Western Metropolitan        6543.0  \n",
              "\n",
              "[13580 rows x 21 columns]"
            ],
            "text/html": [
              "\n",
              "  <div id=\"df-be6e5655-bc6f-4a80-b49d-9d230e9783a7\">\n",
              "    <div class=\"colab-df-container\">\n",
              "      <div>\n",
              "<style scoped>\n",
              "    .dataframe tbody tr th:only-of-type {\n",
              "        vertical-align: middle;\n",
              "    }\n",
              "\n",
              "    .dataframe tbody tr th {\n",
              "        vertical-align: top;\n",
              "    }\n",
              "\n",
              "    .dataframe thead th {\n",
              "        text-align: right;\n",
              "    }\n",
              "</style>\n",
              "<table border=\"1\" class=\"dataframe\">\n",
              "  <thead>\n",
              "    <tr style=\"text-align: right;\">\n",
              "      <th></th>\n",
              "      <th>Suburb</th>\n",
              "      <th>Address</th>\n",
              "      <th>Rooms</th>\n",
              "      <th>Type</th>\n",
              "      <th>Price</th>\n",
              "      <th>Method</th>\n",
              "      <th>SellerG</th>\n",
              "      <th>Date</th>\n",
              "      <th>Distance</th>\n",
              "      <th>Postcode</th>\n",
              "      <th>...</th>\n",
              "      <th>Bathroom</th>\n",
              "      <th>Car</th>\n",
              "      <th>Landsize</th>\n",
              "      <th>BuildingArea</th>\n",
              "      <th>YearBuilt</th>\n",
              "      <th>CouncilArea</th>\n",
              "      <th>Lattitude</th>\n",
              "      <th>Longtitude</th>\n",
              "      <th>Regionname</th>\n",
              "      <th>Propertycount</th>\n",
              "    </tr>\n",
              "  </thead>\n",
              "  <tbody>\n",
              "    <tr>\n",
              "      <th>0</th>\n",
              "      <td>Abbotsford</td>\n",
              "      <td>85 Turner St</td>\n",
              "      <td>2</td>\n",
              "      <td>h</td>\n",
              "      <td>1480000.0</td>\n",
              "      <td>S</td>\n",
              "      <td>Biggin</td>\n",
              "      <td>3/12/2016</td>\n",
              "      <td>2.5</td>\n",
              "      <td>3067.0</td>\n",
              "      <td>...</td>\n",
              "      <td>1.0</td>\n",
              "      <td>1.0</td>\n",
              "      <td>202.0</td>\n",
              "      <td>NaN</td>\n",
              "      <td>NaN</td>\n",
              "      <td>Yarra</td>\n",
              "      <td>-37.79960</td>\n",
              "      <td>144.99840</td>\n",
              "      <td>Northern Metropolitan</td>\n",
              "      <td>4019.0</td>\n",
              "    </tr>\n",
              "    <tr>\n",
              "      <th>1</th>\n",
              "      <td>Abbotsford</td>\n",
              "      <td>25 Bloomburg St</td>\n",
              "      <td>2</td>\n",
              "      <td>h</td>\n",
              "      <td>1035000.0</td>\n",
              "      <td>S</td>\n",
              "      <td>Biggin</td>\n",
              "      <td>4/02/2016</td>\n",
              "      <td>2.5</td>\n",
              "      <td>3067.0</td>\n",
              "      <td>...</td>\n",
              "      <td>1.0</td>\n",
              "      <td>0.0</td>\n",
              "      <td>156.0</td>\n",
              "      <td>79.0</td>\n",
              "      <td>1900.0</td>\n",
              "      <td>Yarra</td>\n",
              "      <td>-37.80790</td>\n",
              "      <td>144.99340</td>\n",
              "      <td>Northern Metropolitan</td>\n",
              "      <td>4019.0</td>\n",
              "    </tr>\n",
              "    <tr>\n",
              "      <th>2</th>\n",
              "      <td>Abbotsford</td>\n",
              "      <td>5 Charles St</td>\n",
              "      <td>3</td>\n",
              "      <td>h</td>\n",
              "      <td>1465000.0</td>\n",
              "      <td>SP</td>\n",
              "      <td>Biggin</td>\n",
              "      <td>4/03/2017</td>\n",
              "      <td>2.5</td>\n",
              "      <td>3067.0</td>\n",
              "      <td>...</td>\n",
              "      <td>2.0</td>\n",
              "      <td>0.0</td>\n",
              "      <td>134.0</td>\n",
              "      <td>150.0</td>\n",
              "      <td>1900.0</td>\n",
              "      <td>Yarra</td>\n",
              "      <td>-37.80930</td>\n",
              "      <td>144.99440</td>\n",
              "      <td>Northern Metropolitan</td>\n",
              "      <td>4019.0</td>\n",
              "    </tr>\n",
              "    <tr>\n",
              "      <th>3</th>\n",
              "      <td>Abbotsford</td>\n",
              "      <td>40 Federation La</td>\n",
              "      <td>3</td>\n",
              "      <td>h</td>\n",
              "      <td>850000.0</td>\n",
              "      <td>PI</td>\n",
              "      <td>Biggin</td>\n",
              "      <td>4/03/2017</td>\n",
              "      <td>2.5</td>\n",
              "      <td>3067.0</td>\n",
              "      <td>...</td>\n",
              "      <td>2.0</td>\n",
              "      <td>1.0</td>\n",
              "      <td>94.0</td>\n",
              "      <td>NaN</td>\n",
              "      <td>NaN</td>\n",
              "      <td>Yarra</td>\n",
              "      <td>-37.79690</td>\n",
              "      <td>144.99690</td>\n",
              "      <td>Northern Metropolitan</td>\n",
              "      <td>4019.0</td>\n",
              "    </tr>\n",
              "    <tr>\n",
              "      <th>4</th>\n",
              "      <td>Abbotsford</td>\n",
              "      <td>55a Park St</td>\n",
              "      <td>4</td>\n",
              "      <td>h</td>\n",
              "      <td>1600000.0</td>\n",
              "      <td>VB</td>\n",
              "      <td>Nelson</td>\n",
              "      <td>4/06/2016</td>\n",
              "      <td>2.5</td>\n",
              "      <td>3067.0</td>\n",
              "      <td>...</td>\n",
              "      <td>1.0</td>\n",
              "      <td>2.0</td>\n",
              "      <td>120.0</td>\n",
              "      <td>142.0</td>\n",
              "      <td>2014.0</td>\n",
              "      <td>Yarra</td>\n",
              "      <td>-37.80720</td>\n",
              "      <td>144.99410</td>\n",
              "      <td>Northern Metropolitan</td>\n",
              "      <td>4019.0</td>\n",
              "    </tr>\n",
              "    <tr>\n",
              "      <th>...</th>\n",
              "      <td>...</td>\n",
              "      <td>...</td>\n",
              "      <td>...</td>\n",
              "      <td>...</td>\n",
              "      <td>...</td>\n",
              "      <td>...</td>\n",
              "      <td>...</td>\n",
              "      <td>...</td>\n",
              "      <td>...</td>\n",
              "      <td>...</td>\n",
              "      <td>...</td>\n",
              "      <td>...</td>\n",
              "      <td>...</td>\n",
              "      <td>...</td>\n",
              "      <td>...</td>\n",
              "      <td>...</td>\n",
              "      <td>...</td>\n",
              "      <td>...</td>\n",
              "      <td>...</td>\n",
              "      <td>...</td>\n",
              "      <td>...</td>\n",
              "    </tr>\n",
              "    <tr>\n",
              "      <th>13575</th>\n",
              "      <td>Wheelers Hill</td>\n",
              "      <td>12 Strada Cr</td>\n",
              "      <td>4</td>\n",
              "      <td>h</td>\n",
              "      <td>1245000.0</td>\n",
              "      <td>S</td>\n",
              "      <td>Barry</td>\n",
              "      <td>26/08/2017</td>\n",
              "      <td>16.7</td>\n",
              "      <td>3150.0</td>\n",
              "      <td>...</td>\n",
              "      <td>2.0</td>\n",
              "      <td>2.0</td>\n",
              "      <td>652.0</td>\n",
              "      <td>NaN</td>\n",
              "      <td>1981.0</td>\n",
              "      <td>NaN</td>\n",
              "      <td>-37.90562</td>\n",
              "      <td>145.16761</td>\n",
              "      <td>South-Eastern Metropolitan</td>\n",
              "      <td>7392.0</td>\n",
              "    </tr>\n",
              "    <tr>\n",
              "      <th>13576</th>\n",
              "      <td>Williamstown</td>\n",
              "      <td>77 Merrett Dr</td>\n",
              "      <td>3</td>\n",
              "      <td>h</td>\n",
              "      <td>1031000.0</td>\n",
              "      <td>SP</td>\n",
              "      <td>Williams</td>\n",
              "      <td>26/08/2017</td>\n",
              "      <td>6.8</td>\n",
              "      <td>3016.0</td>\n",
              "      <td>...</td>\n",
              "      <td>2.0</td>\n",
              "      <td>2.0</td>\n",
              "      <td>333.0</td>\n",
              "      <td>133.0</td>\n",
              "      <td>1995.0</td>\n",
              "      <td>NaN</td>\n",
              "      <td>-37.85927</td>\n",
              "      <td>144.87904</td>\n",
              "      <td>Western Metropolitan</td>\n",
              "      <td>6380.0</td>\n",
              "    </tr>\n",
              "    <tr>\n",
              "      <th>13577</th>\n",
              "      <td>Williamstown</td>\n",
              "      <td>83 Power St</td>\n",
              "      <td>3</td>\n",
              "      <td>h</td>\n",
              "      <td>1170000.0</td>\n",
              "      <td>S</td>\n",
              "      <td>Raine</td>\n",
              "      <td>26/08/2017</td>\n",
              "      <td>6.8</td>\n",
              "      <td>3016.0</td>\n",
              "      <td>...</td>\n",
              "      <td>2.0</td>\n",
              "      <td>4.0</td>\n",
              "      <td>436.0</td>\n",
              "      <td>NaN</td>\n",
              "      <td>1997.0</td>\n",
              "      <td>NaN</td>\n",
              "      <td>-37.85274</td>\n",
              "      <td>144.88738</td>\n",
              "      <td>Western Metropolitan</td>\n",
              "      <td>6380.0</td>\n",
              "    </tr>\n",
              "    <tr>\n",
              "      <th>13578</th>\n",
              "      <td>Williamstown</td>\n",
              "      <td>96 Verdon St</td>\n",
              "      <td>4</td>\n",
              "      <td>h</td>\n",
              "      <td>2500000.0</td>\n",
              "      <td>PI</td>\n",
              "      <td>Sweeney</td>\n",
              "      <td>26/08/2017</td>\n",
              "      <td>6.8</td>\n",
              "      <td>3016.0</td>\n",
              "      <td>...</td>\n",
              "      <td>1.0</td>\n",
              "      <td>5.0</td>\n",
              "      <td>866.0</td>\n",
              "      <td>157.0</td>\n",
              "      <td>1920.0</td>\n",
              "      <td>NaN</td>\n",
              "      <td>-37.85908</td>\n",
              "      <td>144.89299</td>\n",
              "      <td>Western Metropolitan</td>\n",
              "      <td>6380.0</td>\n",
              "    </tr>\n",
              "    <tr>\n",
              "      <th>13579</th>\n",
              "      <td>Yarraville</td>\n",
              "      <td>6 Agnes St</td>\n",
              "      <td>4</td>\n",
              "      <td>h</td>\n",
              "      <td>1285000.0</td>\n",
              "      <td>SP</td>\n",
              "      <td>Village</td>\n",
              "      <td>26/08/2017</td>\n",
              "      <td>6.3</td>\n",
              "      <td>3013.0</td>\n",
              "      <td>...</td>\n",
              "      <td>1.0</td>\n",
              "      <td>1.0</td>\n",
              "      <td>362.0</td>\n",
              "      <td>112.0</td>\n",
              "      <td>1920.0</td>\n",
              "      <td>NaN</td>\n",
              "      <td>-37.81188</td>\n",
              "      <td>144.88449</td>\n",
              "      <td>Western Metropolitan</td>\n",
              "      <td>6543.0</td>\n",
              "    </tr>\n",
              "  </tbody>\n",
              "</table>\n",
              "<p>13580 rows × 21 columns</p>\n",
              "</div>\n",
              "      <button class=\"colab-df-convert\" onclick=\"convertToInteractive('df-be6e5655-bc6f-4a80-b49d-9d230e9783a7')\"\n",
              "              title=\"Convert this dataframe to an interactive table.\"\n",
              "              style=\"display:none;\">\n",
              "        \n",
              "  <svg xmlns=\"http://www.w3.org/2000/svg\" height=\"24px\"viewBox=\"0 0 24 24\"\n",
              "       width=\"24px\">\n",
              "    <path d=\"M0 0h24v24H0V0z\" fill=\"none\"/>\n",
              "    <path d=\"M18.56 5.44l.94 2.06.94-2.06 2.06-.94-2.06-.94-.94-2.06-.94 2.06-2.06.94zm-11 1L8.5 8.5l.94-2.06 2.06-.94-2.06-.94L8.5 2.5l-.94 2.06-2.06.94zm10 10l.94 2.06.94-2.06 2.06-.94-2.06-.94-.94-2.06-.94 2.06-2.06.94z\"/><path d=\"M17.41 7.96l-1.37-1.37c-.4-.4-.92-.59-1.43-.59-.52 0-1.04.2-1.43.59L10.3 9.45l-7.72 7.72c-.78.78-.78 2.05 0 2.83L4 21.41c.39.39.9.59 1.41.59.51 0 1.02-.2 1.41-.59l7.78-7.78 2.81-2.81c.8-.78.8-2.07 0-2.86zM5.41 20L4 18.59l7.72-7.72 1.47 1.35L5.41 20z\"/>\n",
              "  </svg>\n",
              "      </button>\n",
              "      \n",
              "  <style>\n",
              "    .colab-df-container {\n",
              "      display:flex;\n",
              "      flex-wrap:wrap;\n",
              "      gap: 12px;\n",
              "    }\n",
              "\n",
              "    .colab-df-convert {\n",
              "      background-color: #E8F0FE;\n",
              "      border: none;\n",
              "      border-radius: 50%;\n",
              "      cursor: pointer;\n",
              "      display: none;\n",
              "      fill: #1967D2;\n",
              "      height: 32px;\n",
              "      padding: 0 0 0 0;\n",
              "      width: 32px;\n",
              "    }\n",
              "\n",
              "    .colab-df-convert:hover {\n",
              "      background-color: #E2EBFA;\n",
              "      box-shadow: 0px 1px 2px rgba(60, 64, 67, 0.3), 0px 1px 3px 1px rgba(60, 64, 67, 0.15);\n",
              "      fill: #174EA6;\n",
              "    }\n",
              "\n",
              "    [theme=dark] .colab-df-convert {\n",
              "      background-color: #3B4455;\n",
              "      fill: #D2E3FC;\n",
              "    }\n",
              "\n",
              "    [theme=dark] .colab-df-convert:hover {\n",
              "      background-color: #434B5C;\n",
              "      box-shadow: 0px 1px 3px 1px rgba(0, 0, 0, 0.15);\n",
              "      filter: drop-shadow(0px 1px 2px rgba(0, 0, 0, 0.3));\n",
              "      fill: #FFFFFF;\n",
              "    }\n",
              "  </style>\n",
              "\n",
              "      <script>\n",
              "        const buttonEl =\n",
              "          document.querySelector('#df-be6e5655-bc6f-4a80-b49d-9d230e9783a7 button.colab-df-convert');\n",
              "        buttonEl.style.display =\n",
              "          google.colab.kernel.accessAllowed ? 'block' : 'none';\n",
              "\n",
              "        async function convertToInteractive(key) {\n",
              "          const element = document.querySelector('#df-be6e5655-bc6f-4a80-b49d-9d230e9783a7');\n",
              "          const dataTable =\n",
              "            await google.colab.kernel.invokeFunction('convertToInteractive',\n",
              "                                                     [key], {});\n",
              "          if (!dataTable) return;\n",
              "\n",
              "          const docLinkHtml = 'Like what you see? Visit the ' +\n",
              "            '<a target=\"_blank\" href=https://colab.research.google.com/notebooks/data_table.ipynb>data table notebook</a>'\n",
              "            + ' to learn more about interactive tables.';\n",
              "          element.innerHTML = '';\n",
              "          dataTable['output_type'] = 'display_data';\n",
              "          await google.colab.output.renderOutput(dataTable, element);\n",
              "          const docLink = document.createElement('div');\n",
              "          docLink.innerHTML = docLinkHtml;\n",
              "          element.appendChild(docLink);\n",
              "        }\n",
              "      </script>\n",
              "    </div>\n",
              "  </div>\n",
              "  "
            ]
          },
          "metadata": {},
          "execution_count": 2
        }
      ]
    },
    {
      "cell_type": "code",
      "source": [
        "melbourne_data.info()"
      ],
      "metadata": {
        "colab": {
          "base_uri": "https://localhost:8080/"
        },
        "id": "bOydDW-ku06n",
        "outputId": "f56d1909-018c-471d-e4cc-e140ac856cf1"
      },
      "execution_count": 3,
      "outputs": [
        {
          "output_type": "stream",
          "name": "stdout",
          "text": [
            "<class 'pandas.core.frame.DataFrame'>\n",
            "RangeIndex: 13580 entries, 0 to 13579\n",
            "Data columns (total 21 columns):\n",
            " #   Column         Non-Null Count  Dtype  \n",
            "---  ------         --------------  -----  \n",
            " 0   Suburb         13580 non-null  object \n",
            " 1   Address        13580 non-null  object \n",
            " 2   Rooms          13580 non-null  int64  \n",
            " 3   Type           13580 non-null  object \n",
            " 4   Price          13580 non-null  float64\n",
            " 5   Method         13580 non-null  object \n",
            " 6   SellerG        13580 non-null  object \n",
            " 7   Date           13580 non-null  object \n",
            " 8   Distance       13580 non-null  float64\n",
            " 9   Postcode       13580 non-null  float64\n",
            " 10  Bedroom2       13580 non-null  float64\n",
            " 11  Bathroom       13580 non-null  float64\n",
            " 12  Car            13518 non-null  float64\n",
            " 13  Landsize       13580 non-null  float64\n",
            " 14  BuildingArea   7130 non-null   float64\n",
            " 15  YearBuilt      8205 non-null   float64\n",
            " 16  CouncilArea    12211 non-null  object \n",
            " 17  Lattitude      13580 non-null  float64\n",
            " 18  Longtitude     13580 non-null  float64\n",
            " 19  Regionname     13580 non-null  object \n",
            " 20  Propertycount  13580 non-null  float64\n",
            "dtypes: float64(12), int64(1), object(8)\n",
            "memory usage: 2.2+ MB\n"
          ]
        }
      ]
    },
    {
      "cell_type": "code",
      "source": [],
      "metadata": {
        "id": "wvDQ_shgvm0l"
      },
      "execution_count": 3,
      "outputs": []
    },
    {
      "cell_type": "code",
      "source": [],
      "metadata": {
        "id": "ieVSY03jvmum"
      },
      "execution_count": 3,
      "outputs": []
    },
    {
      "cell_type": "code",
      "source": [
        "# Filter rows with missing price values\n",
        "filtered_melbourne_data = melbourne_data.dropna(axis=0)"
      ],
      "metadata": {
        "id": "zTPyqheJj2EV"
      },
      "execution_count": 4,
      "outputs": []
    },
    {
      "cell_type": "markdown",
      "source": [
        "## 1. First Model: Linear Regression (Simple)"
      ],
      "metadata": {
        "id": "pdQSG5wqtBdK"
      }
    },
    {
      "cell_type": "code",
      "source": [
        "# Choose target and features\n",
        "y = filtered_melbourne_data.Price\n",
        "melbourne_features = ['Rooms', 'Bathroom', 'Landsize']\n",
        "X = filtered_melbourne_data[melbourne_features]"
      ],
      "metadata": {
        "id": "qezgHDGullsc"
      },
      "execution_count": 5,
      "outputs": []
    },
    {
      "cell_type": "markdown",
      "source": [
        "### We split the dataset in two: train and test"
      ],
      "metadata": {
        "id": "91ytyuzYlzfh"
      }
    },
    {
      "cell_type": "code",
      "source": [
        "# split data into training and test data, for both features and target\n",
        "# The split is based on a random number generator. Supplying a numeric value to\n",
        "# the random_state argument guarantees we get the same split every time we\n",
        "# run this script.\n",
        "train_X, test_X, train_y, test_y = train_test_split(X, y, random_state = 0)"
      ],
      "metadata": {
        "id": "o3zGzL-OmDaA"
      },
      "execution_count": 6,
      "outputs": []
    },
    {
      "cell_type": "code",
      "source": [
        "train_X"
      ],
      "metadata": {
        "colab": {
          "base_uri": "https://localhost:8080/",
          "height": 423
        },
        "id": "i8QvQm47mLCD",
        "outputId": "d0a2fbe2-d869-4da9-fab9-62333f1900f3"
      },
      "execution_count": 7,
      "outputs": [
        {
          "output_type": "execute_result",
          "data": {
            "text/plain": [
              "       Rooms  Bathroom  Landsize\n",
              "10385      3       1.0     206.0\n",
              "5805       2       1.0       0.0\n",
              "8488       2       1.0    2701.0\n",
              "6672       3       1.0     670.0\n",
              "776        6       3.0     708.0\n",
              "...      ...       ...       ...\n",
              "9510       3       1.0     118.0\n",
              "6023       5       2.0     661.0\n",
              "2960       4       2.0     453.0\n",
              "4729       2       1.0      90.0\n",
              "4996       3       1.0     495.0\n",
              "\n",
              "[4647 rows x 3 columns]"
            ],
            "text/html": [
              "\n",
              "  <div id=\"df-c996c483-e309-44f2-9be7-a5b5935d674a\">\n",
              "    <div class=\"colab-df-container\">\n",
              "      <div>\n",
              "<style scoped>\n",
              "    .dataframe tbody tr th:only-of-type {\n",
              "        vertical-align: middle;\n",
              "    }\n",
              "\n",
              "    .dataframe tbody tr th {\n",
              "        vertical-align: top;\n",
              "    }\n",
              "\n",
              "    .dataframe thead th {\n",
              "        text-align: right;\n",
              "    }\n",
              "</style>\n",
              "<table border=\"1\" class=\"dataframe\">\n",
              "  <thead>\n",
              "    <tr style=\"text-align: right;\">\n",
              "      <th></th>\n",
              "      <th>Rooms</th>\n",
              "      <th>Bathroom</th>\n",
              "      <th>Landsize</th>\n",
              "    </tr>\n",
              "  </thead>\n",
              "  <tbody>\n",
              "    <tr>\n",
              "      <th>10385</th>\n",
              "      <td>3</td>\n",
              "      <td>1.0</td>\n",
              "      <td>206.0</td>\n",
              "    </tr>\n",
              "    <tr>\n",
              "      <th>5805</th>\n",
              "      <td>2</td>\n",
              "      <td>1.0</td>\n",
              "      <td>0.0</td>\n",
              "    </tr>\n",
              "    <tr>\n",
              "      <th>8488</th>\n",
              "      <td>2</td>\n",
              "      <td>1.0</td>\n",
              "      <td>2701.0</td>\n",
              "    </tr>\n",
              "    <tr>\n",
              "      <th>6672</th>\n",
              "      <td>3</td>\n",
              "      <td>1.0</td>\n",
              "      <td>670.0</td>\n",
              "    </tr>\n",
              "    <tr>\n",
              "      <th>776</th>\n",
              "      <td>6</td>\n",
              "      <td>3.0</td>\n",
              "      <td>708.0</td>\n",
              "    </tr>\n",
              "    <tr>\n",
              "      <th>...</th>\n",
              "      <td>...</td>\n",
              "      <td>...</td>\n",
              "      <td>...</td>\n",
              "    </tr>\n",
              "    <tr>\n",
              "      <th>9510</th>\n",
              "      <td>3</td>\n",
              "      <td>1.0</td>\n",
              "      <td>118.0</td>\n",
              "    </tr>\n",
              "    <tr>\n",
              "      <th>6023</th>\n",
              "      <td>5</td>\n",
              "      <td>2.0</td>\n",
              "      <td>661.0</td>\n",
              "    </tr>\n",
              "    <tr>\n",
              "      <th>2960</th>\n",
              "      <td>4</td>\n",
              "      <td>2.0</td>\n",
              "      <td>453.0</td>\n",
              "    </tr>\n",
              "    <tr>\n",
              "      <th>4729</th>\n",
              "      <td>2</td>\n",
              "      <td>1.0</td>\n",
              "      <td>90.0</td>\n",
              "    </tr>\n",
              "    <tr>\n",
              "      <th>4996</th>\n",
              "      <td>3</td>\n",
              "      <td>1.0</td>\n",
              "      <td>495.0</td>\n",
              "    </tr>\n",
              "  </tbody>\n",
              "</table>\n",
              "<p>4647 rows × 3 columns</p>\n",
              "</div>\n",
              "      <button class=\"colab-df-convert\" onclick=\"convertToInteractive('df-c996c483-e309-44f2-9be7-a5b5935d674a')\"\n",
              "              title=\"Convert this dataframe to an interactive table.\"\n",
              "              style=\"display:none;\">\n",
              "        \n",
              "  <svg xmlns=\"http://www.w3.org/2000/svg\" height=\"24px\"viewBox=\"0 0 24 24\"\n",
              "       width=\"24px\">\n",
              "    <path d=\"M0 0h24v24H0V0z\" fill=\"none\"/>\n",
              "    <path d=\"M18.56 5.44l.94 2.06.94-2.06 2.06-.94-2.06-.94-.94-2.06-.94 2.06-2.06.94zm-11 1L8.5 8.5l.94-2.06 2.06-.94-2.06-.94L8.5 2.5l-.94 2.06-2.06.94zm10 10l.94 2.06.94-2.06 2.06-.94-2.06-.94-.94-2.06-.94 2.06-2.06.94z\"/><path d=\"M17.41 7.96l-1.37-1.37c-.4-.4-.92-.59-1.43-.59-.52 0-1.04.2-1.43.59L10.3 9.45l-7.72 7.72c-.78.78-.78 2.05 0 2.83L4 21.41c.39.39.9.59 1.41.59.51 0 1.02-.2 1.41-.59l7.78-7.78 2.81-2.81c.8-.78.8-2.07 0-2.86zM5.41 20L4 18.59l7.72-7.72 1.47 1.35L5.41 20z\"/>\n",
              "  </svg>\n",
              "      </button>\n",
              "      \n",
              "  <style>\n",
              "    .colab-df-container {\n",
              "      display:flex;\n",
              "      flex-wrap:wrap;\n",
              "      gap: 12px;\n",
              "    }\n",
              "\n",
              "    .colab-df-convert {\n",
              "      background-color: #E8F0FE;\n",
              "      border: none;\n",
              "      border-radius: 50%;\n",
              "      cursor: pointer;\n",
              "      display: none;\n",
              "      fill: #1967D2;\n",
              "      height: 32px;\n",
              "      padding: 0 0 0 0;\n",
              "      width: 32px;\n",
              "    }\n",
              "\n",
              "    .colab-df-convert:hover {\n",
              "      background-color: #E2EBFA;\n",
              "      box-shadow: 0px 1px 2px rgba(60, 64, 67, 0.3), 0px 1px 3px 1px rgba(60, 64, 67, 0.15);\n",
              "      fill: #174EA6;\n",
              "    }\n",
              "\n",
              "    [theme=dark] .colab-df-convert {\n",
              "      background-color: #3B4455;\n",
              "      fill: #D2E3FC;\n",
              "    }\n",
              "\n",
              "    [theme=dark] .colab-df-convert:hover {\n",
              "      background-color: #434B5C;\n",
              "      box-shadow: 0px 1px 3px 1px rgba(0, 0, 0, 0.15);\n",
              "      filter: drop-shadow(0px 1px 2px rgba(0, 0, 0, 0.3));\n",
              "      fill: #FFFFFF;\n",
              "    }\n",
              "  </style>\n",
              "\n",
              "      <script>\n",
              "        const buttonEl =\n",
              "          document.querySelector('#df-c996c483-e309-44f2-9be7-a5b5935d674a button.colab-df-convert');\n",
              "        buttonEl.style.display =\n",
              "          google.colab.kernel.accessAllowed ? 'block' : 'none';\n",
              "\n",
              "        async function convertToInteractive(key) {\n",
              "          const element = document.querySelector('#df-c996c483-e309-44f2-9be7-a5b5935d674a');\n",
              "          const dataTable =\n",
              "            await google.colab.kernel.invokeFunction('convertToInteractive',\n",
              "                                                     [key], {});\n",
              "          if (!dataTable) return;\n",
              "\n",
              "          const docLinkHtml = 'Like what you see? Visit the ' +\n",
              "            '<a target=\"_blank\" href=https://colab.research.google.com/notebooks/data_table.ipynb>data table notebook</a>'\n",
              "            + ' to learn more about interactive tables.';\n",
              "          element.innerHTML = '';\n",
              "          dataTable['output_type'] = 'display_data';\n",
              "          await google.colab.output.renderOutput(dataTable, element);\n",
              "          const docLink = document.createElement('div');\n",
              "          docLink.innerHTML = docLinkHtml;\n",
              "          element.appendChild(docLink);\n",
              "        }\n",
              "      </script>\n",
              "    </div>\n",
              "  </div>\n",
              "  "
            ]
          },
          "metadata": {},
          "execution_count": 7
        }
      ]
    },
    {
      "cell_type": "code",
      "source": [
        "test_X"
      ],
      "metadata": {
        "colab": {
          "base_uri": "https://localhost:8080/",
          "height": 423
        },
        "id": "zKkqjfvBmMLb",
        "outputId": "d54fea47-4a1c-459b-baae-bfbfb7dee166"
      },
      "execution_count": 8,
      "outputs": [
        {
          "output_type": "execute_result",
          "data": {
            "text/plain": [
              "       Rooms  Bathroom  Landsize\n",
              "4850       2       1.0      96.0\n",
              "2307       2       1.0       0.0\n",
              "10090      2       1.0     136.0\n",
              "3645       3       2.0     205.0\n",
              "4930       2       1.0     400.0\n",
              "...      ...       ...       ...\n",
              "8223       2       1.0       0.0\n",
              "11190      3       2.0     590.0\n",
              "8563       1       1.0    1175.0\n",
              "1867       2       1.0     585.0\n",
              "8375       2       2.0     208.0\n",
              "\n",
              "[1549 rows x 3 columns]"
            ],
            "text/html": [
              "\n",
              "  <div id=\"df-a2e0f13c-b2b6-412e-a0ad-acb5257eca8e\">\n",
              "    <div class=\"colab-df-container\">\n",
              "      <div>\n",
              "<style scoped>\n",
              "    .dataframe tbody tr th:only-of-type {\n",
              "        vertical-align: middle;\n",
              "    }\n",
              "\n",
              "    .dataframe tbody tr th {\n",
              "        vertical-align: top;\n",
              "    }\n",
              "\n",
              "    .dataframe thead th {\n",
              "        text-align: right;\n",
              "    }\n",
              "</style>\n",
              "<table border=\"1\" class=\"dataframe\">\n",
              "  <thead>\n",
              "    <tr style=\"text-align: right;\">\n",
              "      <th></th>\n",
              "      <th>Rooms</th>\n",
              "      <th>Bathroom</th>\n",
              "      <th>Landsize</th>\n",
              "    </tr>\n",
              "  </thead>\n",
              "  <tbody>\n",
              "    <tr>\n",
              "      <th>4850</th>\n",
              "      <td>2</td>\n",
              "      <td>1.0</td>\n",
              "      <td>96.0</td>\n",
              "    </tr>\n",
              "    <tr>\n",
              "      <th>2307</th>\n",
              "      <td>2</td>\n",
              "      <td>1.0</td>\n",
              "      <td>0.0</td>\n",
              "    </tr>\n",
              "    <tr>\n",
              "      <th>10090</th>\n",
              "      <td>2</td>\n",
              "      <td>1.0</td>\n",
              "      <td>136.0</td>\n",
              "    </tr>\n",
              "    <tr>\n",
              "      <th>3645</th>\n",
              "      <td>3</td>\n",
              "      <td>2.0</td>\n",
              "      <td>205.0</td>\n",
              "    </tr>\n",
              "    <tr>\n",
              "      <th>4930</th>\n",
              "      <td>2</td>\n",
              "      <td>1.0</td>\n",
              "      <td>400.0</td>\n",
              "    </tr>\n",
              "    <tr>\n",
              "      <th>...</th>\n",
              "      <td>...</td>\n",
              "      <td>...</td>\n",
              "      <td>...</td>\n",
              "    </tr>\n",
              "    <tr>\n",
              "      <th>8223</th>\n",
              "      <td>2</td>\n",
              "      <td>1.0</td>\n",
              "      <td>0.0</td>\n",
              "    </tr>\n",
              "    <tr>\n",
              "      <th>11190</th>\n",
              "      <td>3</td>\n",
              "      <td>2.0</td>\n",
              "      <td>590.0</td>\n",
              "    </tr>\n",
              "    <tr>\n",
              "      <th>8563</th>\n",
              "      <td>1</td>\n",
              "      <td>1.0</td>\n",
              "      <td>1175.0</td>\n",
              "    </tr>\n",
              "    <tr>\n",
              "      <th>1867</th>\n",
              "      <td>2</td>\n",
              "      <td>1.0</td>\n",
              "      <td>585.0</td>\n",
              "    </tr>\n",
              "    <tr>\n",
              "      <th>8375</th>\n",
              "      <td>2</td>\n",
              "      <td>2.0</td>\n",
              "      <td>208.0</td>\n",
              "    </tr>\n",
              "  </tbody>\n",
              "</table>\n",
              "<p>1549 rows × 3 columns</p>\n",
              "</div>\n",
              "      <button class=\"colab-df-convert\" onclick=\"convertToInteractive('df-a2e0f13c-b2b6-412e-a0ad-acb5257eca8e')\"\n",
              "              title=\"Convert this dataframe to an interactive table.\"\n",
              "              style=\"display:none;\">\n",
              "        \n",
              "  <svg xmlns=\"http://www.w3.org/2000/svg\" height=\"24px\"viewBox=\"0 0 24 24\"\n",
              "       width=\"24px\">\n",
              "    <path d=\"M0 0h24v24H0V0z\" fill=\"none\"/>\n",
              "    <path d=\"M18.56 5.44l.94 2.06.94-2.06 2.06-.94-2.06-.94-.94-2.06-.94 2.06-2.06.94zm-11 1L8.5 8.5l.94-2.06 2.06-.94-2.06-.94L8.5 2.5l-.94 2.06-2.06.94zm10 10l.94 2.06.94-2.06 2.06-.94-2.06-.94-.94-2.06-.94 2.06-2.06.94z\"/><path d=\"M17.41 7.96l-1.37-1.37c-.4-.4-.92-.59-1.43-.59-.52 0-1.04.2-1.43.59L10.3 9.45l-7.72 7.72c-.78.78-.78 2.05 0 2.83L4 21.41c.39.39.9.59 1.41.59.51 0 1.02-.2 1.41-.59l7.78-7.78 2.81-2.81c.8-.78.8-2.07 0-2.86zM5.41 20L4 18.59l7.72-7.72 1.47 1.35L5.41 20z\"/>\n",
              "  </svg>\n",
              "      </button>\n",
              "      \n",
              "  <style>\n",
              "    .colab-df-container {\n",
              "      display:flex;\n",
              "      flex-wrap:wrap;\n",
              "      gap: 12px;\n",
              "    }\n",
              "\n",
              "    .colab-df-convert {\n",
              "      background-color: #E8F0FE;\n",
              "      border: none;\n",
              "      border-radius: 50%;\n",
              "      cursor: pointer;\n",
              "      display: none;\n",
              "      fill: #1967D2;\n",
              "      height: 32px;\n",
              "      padding: 0 0 0 0;\n",
              "      width: 32px;\n",
              "    }\n",
              "\n",
              "    .colab-df-convert:hover {\n",
              "      background-color: #E2EBFA;\n",
              "      box-shadow: 0px 1px 2px rgba(60, 64, 67, 0.3), 0px 1px 3px 1px rgba(60, 64, 67, 0.15);\n",
              "      fill: #174EA6;\n",
              "    }\n",
              "\n",
              "    [theme=dark] .colab-df-convert {\n",
              "      background-color: #3B4455;\n",
              "      fill: #D2E3FC;\n",
              "    }\n",
              "\n",
              "    [theme=dark] .colab-df-convert:hover {\n",
              "      background-color: #434B5C;\n",
              "      box-shadow: 0px 1px 3px 1px rgba(0, 0, 0, 0.15);\n",
              "      filter: drop-shadow(0px 1px 2px rgba(0, 0, 0, 0.3));\n",
              "      fill: #FFFFFF;\n",
              "    }\n",
              "  </style>\n",
              "\n",
              "      <script>\n",
              "        const buttonEl =\n",
              "          document.querySelector('#df-a2e0f13c-b2b6-412e-a0ad-acb5257eca8e button.colab-df-convert');\n",
              "        buttonEl.style.display =\n",
              "          google.colab.kernel.accessAllowed ? 'block' : 'none';\n",
              "\n",
              "        async function convertToInteractive(key) {\n",
              "          const element = document.querySelector('#df-a2e0f13c-b2b6-412e-a0ad-acb5257eca8e');\n",
              "          const dataTable =\n",
              "            await google.colab.kernel.invokeFunction('convertToInteractive',\n",
              "                                                     [key], {});\n",
              "          if (!dataTable) return;\n",
              "\n",
              "          const docLinkHtml = 'Like what you see? Visit the ' +\n",
              "            '<a target=\"_blank\" href=https://colab.research.google.com/notebooks/data_table.ipynb>data table notebook</a>'\n",
              "            + ' to learn more about interactive tables.';\n",
              "          element.innerHTML = '';\n",
              "          dataTable['output_type'] = 'display_data';\n",
              "          await google.colab.output.renderOutput(dataTable, element);\n",
              "          const docLink = document.createElement('div');\n",
              "          docLink.innerHTML = docLinkHtml;\n",
              "          element.appendChild(docLink);\n",
              "        }\n",
              "      </script>\n",
              "    </div>\n",
              "  </div>\n",
              "  "
            ]
          },
          "metadata": {},
          "execution_count": 8
        }
      ]
    },
    {
      "cell_type": "code",
      "source": [
        "train_y"
      ],
      "metadata": {
        "colab": {
          "base_uri": "https://localhost:8080/"
        },
        "id": "OAezf4lQmPtB",
        "outputId": "464d4812-196f-4033-e81a-fa7f73966594"
      },
      "execution_count": 9,
      "outputs": [
        {
          "output_type": "execute_result",
          "data": {
            "text/plain": [
              "10385    1060000.0\n",
              "5805      390000.0\n",
              "8488      502000.0\n",
              "6672     1055000.0\n",
              "776      1900000.0\n",
              "           ...    \n",
              "9510     1875000.0\n",
              "6023      605000.0\n",
              "2960      709000.0\n",
              "4729     1000000.0\n",
              "4996      890000.0\n",
              "Name: Price, Length: 4647, dtype: float64"
            ]
          },
          "metadata": {},
          "execution_count": 9
        }
      ]
    },
    {
      "cell_type": "code",
      "source": [
        "test_y"
      ],
      "metadata": {
        "colab": {
          "base_uri": "https://localhost:8080/"
        },
        "id": "X7O_7eI3mSEv",
        "outputId": "c5682b69-803f-40f2-e8a3-ee05759af5c7"
      },
      "execution_count": 10,
      "outputs": [
        {
          "output_type": "execute_result",
          "data": {
            "text/plain": [
              "4850      815000.0\n",
              "2307      655000.0\n",
              "10090     957500.0\n",
              "3645     1330000.0\n",
              "4930      722000.0\n",
              "           ...    \n",
              "8223      520000.0\n",
              "11190     870000.0\n",
              "8563      200000.0\n",
              "1867     1002000.0\n",
              "8375     1710000.0\n",
              "Name: Price, Length: 1549, dtype: float64"
            ]
          },
          "metadata": {},
          "execution_count": 10
        }
      ]
    },
    {
      "cell_type": "markdown",
      "source": [
        "### We define and fit the model using the train dataset"
      ],
      "metadata": {
        "id": "z2wpSebxmfF7"
      }
    },
    {
      "cell_type": "code",
      "source": [
        "# Define model\n",
        "melbourne_model = LinearRegression()"
      ],
      "metadata": {
        "id": "fUcFLoMzmTPT"
      },
      "execution_count": 11,
      "outputs": []
    },
    {
      "cell_type": "code",
      "source": [
        "# Fit model\n",
        "melbourne_model.fit(train_X, train_y)"
      ],
      "metadata": {
        "colab": {
          "base_uri": "https://localhost:8080/"
        },
        "id": "RRVUcTsjmre5",
        "outputId": "1e294c8a-2191-4a1f-ce66-75c104af00ec"
      },
      "execution_count": 12,
      "outputs": [
        {
          "output_type": "execute_result",
          "data": {
            "text/plain": [
              "LinearRegression()"
            ]
          },
          "metadata": {},
          "execution_count": 12
        }
      ]
    },
    {
      "cell_type": "markdown",
      "source": [
        "### We test the performance of the model using the test dataset"
      ],
      "metadata": {
        "id": "LMAYEaojmuLB"
      }
    },
    {
      "cell_type": "code",
      "source": [
        "# get predicted prices on validation data\n",
        "val_predictions = melbourne_model.predict(test_X)\n",
        "print(mean_absolute_error(test_y, val_predictions))"
      ],
      "metadata": {
        "colab": {
          "base_uri": "https://localhost:8080/"
        },
        "id": "7yAMq0JvnlG7",
        "outputId": "b489783c-0a1f-4f30-b17b-cf65ce96173f"
      },
      "execution_count": 13,
      "outputs": [
        {
          "output_type": "stream",
          "name": "stdout",
          "text": [
            "387984.68598592625\n"
          ]
        }
      ]
    },
    {
      "cell_type": "markdown",
      "source": [
        "#### Our mean absolute error for the validation dataset is larger than 350K Dollars."
      ],
      "metadata": {
        "id": "zF0eZp06olB5"
      }
    },
    {
      "cell_type": "markdown",
      "source": [
        "## 2. Second Model: Linear Regression (Expanded)\n",
        "\n",
        "#### Our previous model was not very accurate. We need to experiment with alternatives. We could add more features and quadratic terms."
      ],
      "metadata": {
        "id": "vTCkzhcIuT9M"
      }
    },
    {
      "cell_type": "markdown",
      "source": [
        "### Let's conduct some basic exploratory analysis"
      ],
      "metadata": {
        "id": "9G09NVzQPrPH"
      }
    },
    {
      "cell_type": "code",
      "source": [
        "filtered_melbourne_data[['Rooms','Bathroom','Landsize','BuildingArea','YearBuilt','Distance','Price']].corr()"
      ],
      "metadata": {
        "colab": {
          "base_uri": "https://localhost:8080/",
          "height": 269
        },
        "id": "3HRFwq0DPwMQ",
        "outputId": "5efd7288-96dd-45ca-aae8-e4eb3430442a"
      },
      "execution_count": 14,
      "outputs": [
        {
          "output_type": "execute_result",
          "data": {
            "text/plain": [
              "                 Rooms  Bathroom  Landsize  BuildingArea  YearBuilt  Distance  \\\n",
              "Rooms         1.000000  0.613853  0.098755      0.608215  -0.068122  0.283885   \n",
              "Bathroom      0.613853  1.000000  0.076295      0.534425   0.157820  0.124530   \n",
              "Landsize      0.098755  0.076295  1.000000      0.084825   0.026518  0.059369   \n",
              "BuildingArea  0.608215  0.534425  0.084825      1.000000   0.005836  0.159603   \n",
              "YearBuilt    -0.068122  0.157820  0.026518      0.005836   1.000000  0.246291   \n",
              "Distance      0.283885  0.124530  0.059369      0.159603   0.246291  1.000000   \n",
              "Price         0.533505  0.503922  0.081419      0.530574  -0.304633 -0.148867   \n",
              "\n",
              "                 Price  \n",
              "Rooms         0.533505  \n",
              "Bathroom      0.503922  \n",
              "Landsize      0.081419  \n",
              "BuildingArea  0.530574  \n",
              "YearBuilt    -0.304633  \n",
              "Distance     -0.148867  \n",
              "Price         1.000000  "
            ],
            "text/html": [
              "\n",
              "  <div id=\"df-db9711a6-76f4-40c8-a7b2-e8b111f5d0a5\">\n",
              "    <div class=\"colab-df-container\">\n",
              "      <div>\n",
              "<style scoped>\n",
              "    .dataframe tbody tr th:only-of-type {\n",
              "        vertical-align: middle;\n",
              "    }\n",
              "\n",
              "    .dataframe tbody tr th {\n",
              "        vertical-align: top;\n",
              "    }\n",
              "\n",
              "    .dataframe thead th {\n",
              "        text-align: right;\n",
              "    }\n",
              "</style>\n",
              "<table border=\"1\" class=\"dataframe\">\n",
              "  <thead>\n",
              "    <tr style=\"text-align: right;\">\n",
              "      <th></th>\n",
              "      <th>Rooms</th>\n",
              "      <th>Bathroom</th>\n",
              "      <th>Landsize</th>\n",
              "      <th>BuildingArea</th>\n",
              "      <th>YearBuilt</th>\n",
              "      <th>Distance</th>\n",
              "      <th>Price</th>\n",
              "    </tr>\n",
              "  </thead>\n",
              "  <tbody>\n",
              "    <tr>\n",
              "      <th>Rooms</th>\n",
              "      <td>1.000000</td>\n",
              "      <td>0.613853</td>\n",
              "      <td>0.098755</td>\n",
              "      <td>0.608215</td>\n",
              "      <td>-0.068122</td>\n",
              "      <td>0.283885</td>\n",
              "      <td>0.533505</td>\n",
              "    </tr>\n",
              "    <tr>\n",
              "      <th>Bathroom</th>\n",
              "      <td>0.613853</td>\n",
              "      <td>1.000000</td>\n",
              "      <td>0.076295</td>\n",
              "      <td>0.534425</td>\n",
              "      <td>0.157820</td>\n",
              "      <td>0.124530</td>\n",
              "      <td>0.503922</td>\n",
              "    </tr>\n",
              "    <tr>\n",
              "      <th>Landsize</th>\n",
              "      <td>0.098755</td>\n",
              "      <td>0.076295</td>\n",
              "      <td>1.000000</td>\n",
              "      <td>0.084825</td>\n",
              "      <td>0.026518</td>\n",
              "      <td>0.059369</td>\n",
              "      <td>0.081419</td>\n",
              "    </tr>\n",
              "    <tr>\n",
              "      <th>BuildingArea</th>\n",
              "      <td>0.608215</td>\n",
              "      <td>0.534425</td>\n",
              "      <td>0.084825</td>\n",
              "      <td>1.000000</td>\n",
              "      <td>0.005836</td>\n",
              "      <td>0.159603</td>\n",
              "      <td>0.530574</td>\n",
              "    </tr>\n",
              "    <tr>\n",
              "      <th>YearBuilt</th>\n",
              "      <td>-0.068122</td>\n",
              "      <td>0.157820</td>\n",
              "      <td>0.026518</td>\n",
              "      <td>0.005836</td>\n",
              "      <td>1.000000</td>\n",
              "      <td>0.246291</td>\n",
              "      <td>-0.304633</td>\n",
              "    </tr>\n",
              "    <tr>\n",
              "      <th>Distance</th>\n",
              "      <td>0.283885</td>\n",
              "      <td>0.124530</td>\n",
              "      <td>0.059369</td>\n",
              "      <td>0.159603</td>\n",
              "      <td>0.246291</td>\n",
              "      <td>1.000000</td>\n",
              "      <td>-0.148867</td>\n",
              "    </tr>\n",
              "    <tr>\n",
              "      <th>Price</th>\n",
              "      <td>0.533505</td>\n",
              "      <td>0.503922</td>\n",
              "      <td>0.081419</td>\n",
              "      <td>0.530574</td>\n",
              "      <td>-0.304633</td>\n",
              "      <td>-0.148867</td>\n",
              "      <td>1.000000</td>\n",
              "    </tr>\n",
              "  </tbody>\n",
              "</table>\n",
              "</div>\n",
              "      <button class=\"colab-df-convert\" onclick=\"convertToInteractive('df-db9711a6-76f4-40c8-a7b2-e8b111f5d0a5')\"\n",
              "              title=\"Convert this dataframe to an interactive table.\"\n",
              "              style=\"display:none;\">\n",
              "        \n",
              "  <svg xmlns=\"http://www.w3.org/2000/svg\" height=\"24px\"viewBox=\"0 0 24 24\"\n",
              "       width=\"24px\">\n",
              "    <path d=\"M0 0h24v24H0V0z\" fill=\"none\"/>\n",
              "    <path d=\"M18.56 5.44l.94 2.06.94-2.06 2.06-.94-2.06-.94-.94-2.06-.94 2.06-2.06.94zm-11 1L8.5 8.5l.94-2.06 2.06-.94-2.06-.94L8.5 2.5l-.94 2.06-2.06.94zm10 10l.94 2.06.94-2.06 2.06-.94-2.06-.94-.94-2.06-.94 2.06-2.06.94z\"/><path d=\"M17.41 7.96l-1.37-1.37c-.4-.4-.92-.59-1.43-.59-.52 0-1.04.2-1.43.59L10.3 9.45l-7.72 7.72c-.78.78-.78 2.05 0 2.83L4 21.41c.39.39.9.59 1.41.59.51 0 1.02-.2 1.41-.59l7.78-7.78 2.81-2.81c.8-.78.8-2.07 0-2.86zM5.41 20L4 18.59l7.72-7.72 1.47 1.35L5.41 20z\"/>\n",
              "  </svg>\n",
              "      </button>\n",
              "      \n",
              "  <style>\n",
              "    .colab-df-container {\n",
              "      display:flex;\n",
              "      flex-wrap:wrap;\n",
              "      gap: 12px;\n",
              "    }\n",
              "\n",
              "    .colab-df-convert {\n",
              "      background-color: #E8F0FE;\n",
              "      border: none;\n",
              "      border-radius: 50%;\n",
              "      cursor: pointer;\n",
              "      display: none;\n",
              "      fill: #1967D2;\n",
              "      height: 32px;\n",
              "      padding: 0 0 0 0;\n",
              "      width: 32px;\n",
              "    }\n",
              "\n",
              "    .colab-df-convert:hover {\n",
              "      background-color: #E2EBFA;\n",
              "      box-shadow: 0px 1px 2px rgba(60, 64, 67, 0.3), 0px 1px 3px 1px rgba(60, 64, 67, 0.15);\n",
              "      fill: #174EA6;\n",
              "    }\n",
              "\n",
              "    [theme=dark] .colab-df-convert {\n",
              "      background-color: #3B4455;\n",
              "      fill: #D2E3FC;\n",
              "    }\n",
              "\n",
              "    [theme=dark] .colab-df-convert:hover {\n",
              "      background-color: #434B5C;\n",
              "      box-shadow: 0px 1px 3px 1px rgba(0, 0, 0, 0.15);\n",
              "      filter: drop-shadow(0px 1px 2px rgba(0, 0, 0, 0.3));\n",
              "      fill: #FFFFFF;\n",
              "    }\n",
              "  </style>\n",
              "\n",
              "      <script>\n",
              "        const buttonEl =\n",
              "          document.querySelector('#df-db9711a6-76f4-40c8-a7b2-e8b111f5d0a5 button.colab-df-convert');\n",
              "        buttonEl.style.display =\n",
              "          google.colab.kernel.accessAllowed ? 'block' : 'none';\n",
              "\n",
              "        async function convertToInteractive(key) {\n",
              "          const element = document.querySelector('#df-db9711a6-76f4-40c8-a7b2-e8b111f5d0a5');\n",
              "          const dataTable =\n",
              "            await google.colab.kernel.invokeFunction('convertToInteractive',\n",
              "                                                     [key], {});\n",
              "          if (!dataTable) return;\n",
              "\n",
              "          const docLinkHtml = 'Like what you see? Visit the ' +\n",
              "            '<a target=\"_blank\" href=https://colab.research.google.com/notebooks/data_table.ipynb>data table notebook</a>'\n",
              "            + ' to learn more about interactive tables.';\n",
              "          element.innerHTML = '';\n",
              "          dataTable['output_type'] = 'display_data';\n",
              "          await google.colab.output.renderOutput(dataTable, element);\n",
              "          const docLink = document.createElement('div');\n",
              "          docLink.innerHTML = docLinkHtml;\n",
              "          element.appendChild(docLink);\n",
              "        }\n",
              "      </script>\n",
              "    </div>\n",
              "  </div>\n",
              "  "
            ]
          },
          "metadata": {},
          "execution_count": 14
        }
      ]
    },
    {
      "cell_type": "markdown",
      "source": [
        "#### Overall we observe moderate levels of correlation between features such as `Rooms`,`Bathroom`  and the outcome `Price`\n",
        "\n",
        "#### Some features such as `YearBuilt` and `Distance` are negatively correlated with `Price`\n",
        "\n",
        "#### `Landsize` is not correlated with `Price`"
      ],
      "metadata": {
        "id": "tXOod4JCQYto"
      }
    },
    {
      "cell_type": "code",
      "source": [
        "import seaborn as sns\n",
        "sns.set_theme(style=\"ticks\")\n",
        "\n",
        "sns.pairplot(filtered_melbourne_data[['Rooms', 'Bathroom', 'Price']])"
      ],
      "metadata": {
        "colab": {
          "base_uri": "https://localhost:8080/",
          "height": 565
        },
        "id": "nGG4SeGsvit3",
        "outputId": "245ebb06-4901-4a73-c474-c2558cc7ad06"
      },
      "execution_count": 15,
      "outputs": [
        {
          "output_type": "execute_result",
          "data": {
            "text/plain": [
              "<seaborn.axisgrid.PairGrid at 0x7f8d052303d0>"
            ]
          },
          "metadata": {},
          "execution_count": 15
        },
        {
          "output_type": "display_data",
          "data": {
            "text/plain": [
              "<Figure size 540x540 with 12 Axes>"
            ],
            "image/png": "[encoded data removed]"
          },
          "metadata": {}
        }
      ]
    },
    {
      "cell_type": "markdown",
      "source": [
        "#### From the previous figure we observe that the relationship between Price and Rooms is not linear, there is a maximum at around 4-5 rooms decreasing afterwards.\n",
        "\n",
        "#### Similarly we observe non linear relationship between Price and the number of Bathrooms"
      ],
      "metadata": {
        "id": "oYXTV74O_en6"
      }
    },
    {
      "cell_type": "code",
      "source": [
        "sns.pairplot(filtered_melbourne_data[['BuildingArea', 'YearBuilt','Distance', 'Price','Regionname']],hue='Regionname')"
      ],
      "metadata": {
        "colab": {
          "base_uri": "https://localhost:8080/",
          "height": 741
        },
        "id": "50NzezcvQ_BZ",
        "outputId": "75f3895a-f046-4686-d333-625d445a8c45"
      },
      "execution_count": 16,
      "outputs": [
        {
          "output_type": "execute_result",
          "data": {
            "text/plain": [
              "<seaborn.axisgrid.PairGrid at 0x7f8d02c2a8b0>"
            ]
          },
          "metadata": {},
          "execution_count": 16
        },
        {
          "output_type": "display_data",
          "data": {
            "text/plain": [
              "<Figure size 911.225x720 with 20 Axes>"
            ],
            "image/png": "[encoded data removed]"
          },
          "metadata": {}
        }
      ]
    },
    {
      "cell_type": "markdown",
      "source": [
        "#### We observe that the region SouthernMetropolitan commands higher house prices"
      ],
      "metadata": {
        "id": "PevbJoALUC8V"
      }
    },
    {
      "cell_type": "markdown",
      "source": [
        "#### Based on the previous figure we conclude that the Region plays a significant role in the outcome variable Price"
      ],
      "metadata": {
        "id": "H1V6r88YAKd1"
      }
    },
    {
      "cell_type": "markdown",
      "source": [
        "### We need to encode the categorical feature `Regionname`"
      ],
      "metadata": {
        "id": "57qWP4qjAafa"
      }
    },
    {
      "cell_type": "code",
      "source": [
        "filtered_melbourne_data['Regionname']"
      ],
      "metadata": {
        "colab": {
          "base_uri": "https://localhost:8080/"
        },
        "id": "iCjDRULECfjC",
        "outputId": "c564f967-e88b-4dc5-e64a-b86b1bee789a"
      },
      "execution_count": 17,
      "outputs": [
        {
          "output_type": "execute_result",
          "data": {
            "text/plain": [
              "1        Northern Metropolitan\n",
              "2        Northern Metropolitan\n",
              "4        Northern Metropolitan\n",
              "6        Northern Metropolitan\n",
              "7        Northern Metropolitan\n",
              "                 ...          \n",
              "12205        Northern Victoria\n",
              "12206     Western Metropolitan\n",
              "12207     Western Metropolitan\n",
              "12209    Southern Metropolitan\n",
              "12212     Western Metropolitan\n",
              "Name: Regionname, Length: 6196, dtype: object"
            ]
          },
          "metadata": {},
          "execution_count": 17
        }
      ]
    },
    {
      "cell_type": "code",
      "source": [
        "# We transform the feature 'Region' into a numeric one\n",
        "from sklearn import preprocessing\n",
        "le = preprocessing.LabelEncoder()\n",
        "le.fit(filtered_melbourne_data['Regionname'])"
      ],
      "metadata": {
        "colab": {
          "base_uri": "https://localhost:8080/"
        },
        "id": "sjBc1mn7B6kC",
        "outputId": "28103653-f5b1-4ced-86ec-235ea71da875"
      },
      "execution_count": 18,
      "outputs": [
        {
          "output_type": "execute_result",
          "data": {
            "text/plain": [
              "LabelEncoder()"
            ]
          },
          "metadata": {},
          "execution_count": 18
        }
      ]
    },
    {
      "cell_type": "code",
      "source": [
        "le.classes_"
      ],
      "metadata": {
        "colab": {
          "base_uri": "https://localhost:8080/"
        },
        "id": "LVL36Cm_JXkX",
        "outputId": "a6590fe9-9b9e-42b7-bb0f-7b868d9a27dc"
      },
      "execution_count": 19,
      "outputs": [
        {
          "output_type": "execute_result",
          "data": {
            "text/plain": [
              "array(['Eastern Metropolitan', 'Eastern Victoria',\n",
              "       'Northern Metropolitan', 'Northern Victoria',\n",
              "       'South-Eastern Metropolitan', 'Southern Metropolitan',\n",
              "       'Western Metropolitan', 'Western Victoria'], dtype=object)"
            ]
          },
          "metadata": {},
          "execution_count": 19
        }
      ]
    },
    {
      "cell_type": "code",
      "source": [
        "filtered_melbourne_data['Regionname_Categorical']=le.transform(filtered_melbourne_data['Regionname'])"
      ],
      "metadata": {
        "colab": {
          "base_uri": "https://localhost:8080/"
        },
        "id": "GZ71PRdbJd7n",
        "outputId": "ca7cf444-f241-44ca-ae64-cdaf6e45bd46"
      },
      "execution_count": 20,
      "outputs": [
        {
          "output_type": "stream",
          "name": "stderr",
          "text": [
            "<ipython-input-20-b42310cecb7d>:1: SettingWithCopyWarning: \n",
            "A value is trying to be set on a copy of a slice from a DataFrame.\n",
            "Try using .loc[row_indexer,col_indexer] = value instead\n",
            "\n",
            "See the caveats in the documentation: https://pandas.pydata.org/pandas-docs/stable/user_guide/indexing.html#returning-a-view-versus-a-copy\n",
            "  filtered_melbourne_data['Regionname_Categorical']=le.transform(filtered_melbourne_data['Regionname'])\n"
          ]
        }
      ]
    },
    {
      "cell_type": "code",
      "source": [
        "# We add quadratic elements\n",
        "\n",
        "filtered_melbourne_data['RoomsPowered']=filtered_melbourne_data['Rooms']**2\n",
        "\n",
        "filtered_melbourne_data['BathroomPowered']=filtered_melbourne_data['Bathroom']**2"
      ],
      "metadata": {
        "colab": {
          "base_uri": "https://localhost:8080/"
        },
        "id": "4OhvUdITMG7C",
        "outputId": "d752893b-bd55-487c-974a-da022af0d55b"
      },
      "execution_count": 21,
      "outputs": [
        {
          "output_type": "stream",
          "name": "stderr",
          "text": [
            "<ipython-input-21-aba7e4ab351b>:3: SettingWithCopyWarning: \n",
            "A value is trying to be set on a copy of a slice from a DataFrame.\n",
            "Try using .loc[row_indexer,col_indexer] = value instead\n",
            "\n",
            "See the caveats in the documentation: https://pandas.pydata.org/pandas-docs/stable/user_guide/indexing.html#returning-a-view-versus-a-copy\n",
            "  filtered_melbourne_data['RoomsPowered']=filtered_melbourne_data['Rooms']**2\n",
            "<ipython-input-21-aba7e4ab351b>:5: SettingWithCopyWarning: \n",
            "A value is trying to be set on a copy of a slice from a DataFrame.\n",
            "Try using .loc[row_indexer,col_indexer] = value instead\n",
            "\n",
            "See the caveats in the documentation: https://pandas.pydata.org/pandas-docs/stable/user_guide/indexing.html#returning-a-view-versus-a-copy\n",
            "  filtered_melbourne_data['BathroomPowered']=filtered_melbourne_data['Bathroom']**2\n"
          ]
        }
      ]
    },
    {
      "cell_type": "code",
      "source": [],
      "metadata": {
        "id": "9DIW_EpEMGzR"
      },
      "execution_count": 21,
      "outputs": []
    },
    {
      "cell_type": "code",
      "source": [
        "# Choose target and features\n",
        "y = filtered_melbourne_data.Price\n",
        "melbourne_features = [  'BuildingArea', \n",
        "                        'YearBuilt','Regionname_Categorical','RoomsPowered','BathroomPowered']\n",
        "X = filtered_melbourne_data[melbourne_features]"
      ],
      "metadata": {
        "id": "5Eo3KaNqpCVL"
      },
      "execution_count": 32,
      "outputs": []
    },
    {
      "cell_type": "code",
      "source": [
        "# split data into training and test data, for both features and target\n",
        "# The split is based on a random number generator. Supplying a numeric value to\n",
        "# the random_state argument guarantees we get the same split every time we\n",
        "# run this script.\n",
        "train_X, test_X, train_y, test_y = train_test_split(X, y, random_state = 0)"
      ],
      "metadata": {
        "id": "LlvRWtsiLU6R"
      },
      "execution_count": 33,
      "outputs": []
    },
    {
      "cell_type": "code",
      "source": [
        "# Define model\n",
        "melbourne_model2 = LinearRegression()"
      ],
      "metadata": {
        "id": "k9OQnsTuKZAZ"
      },
      "execution_count": 34,
      "outputs": []
    },
    {
      "cell_type": "code",
      "source": [
        "# Fit model\n",
        "melbourne_model2.fit(train_X, train_y)"
      ],
      "metadata": {
        "colab": {
          "base_uri": "https://localhost:8080/"
        },
        "id": "_0VAvFuQLII1",
        "outputId": "80fa726b-6af3-4bf1-a358-7b0bab8ab5cd"
      },
      "execution_count": 35,
      "outputs": [
        {
          "output_type": "execute_result",
          "data": {
            "text/plain": [
              "LinearRegression()"
            ]
          },
          "metadata": {},
          "execution_count": 35
        }
      ]
    },
    {
      "cell_type": "code",
      "source": [
        "# get predicted prices on validation data\n",
        "val_predictions2 = melbourne_model2.predict(test_X)\n",
        "print(mean_absolute_error(test_y, val_predictions2))"
      ],
      "metadata": {
        "colab": {
          "base_uri": "https://localhost:8080/"
        },
        "id": "nxO6G0hqLNpc",
        "outputId": "b98eab3e-c1cc-464a-df63-7250f5200e25"
      },
      "execution_count": 36,
      "outputs": [
        {
          "output_type": "stream",
          "name": "stdout",
          "text": [
            "321069.8773286221\n"
          ]
        }
      ]
    },
    {
      "cell_type": "markdown",
      "source": [
        "#### Our mean absolute error for the validation dataset is larger than 320K Dollars. This is better than the first model yet still too large to be considered production ready"
      ],
      "metadata": {
        "id": "DbUxEuRjU1xm"
      }
    },
    {
      "cell_type": "markdown",
      "source": [
        "## 3. Third Model: Linear Regression (Expanded)\n",
        "\n",
        "#### Our previous models were not very accurate. We can keep adding more features and test if we manage to reduce the mean error rate."
      ],
      "metadata": {
        "id": "FHmrGC9zXRWy"
      }
    },
    {
      "cell_type": "code",
      "source": [
        "# Choose target and features\n",
        "y = filtered_melbourne_data.Price\n",
        "melbourne_features = [  'BuildingArea', \n",
        "                        'YearBuilt','Regionname_Categorical','RoomsPowered','BathroomPowered','Distance']\n",
        "X = filtered_melbourne_data[melbourne_features]"
      ],
      "metadata": {
        "id": "8LA1iz4NXEv1"
      },
      "execution_count": 39,
      "outputs": []
    },
    {
      "cell_type": "code",
      "source": [
        "# split data into training and test data, for both features and target\n",
        "# The split is based on a random number generator. Supplying a numeric value to\n",
        "# the random_state argument guarantees we get the same split every time we\n",
        "# run this script.\n",
        "train_X, test_X, train_y, test_y = train_test_split(X, y, random_state = 0)"
      ],
      "metadata": {
        "id": "0xjWwxzKXlHx"
      },
      "execution_count": 40,
      "outputs": []
    },
    {
      "cell_type": "code",
      "source": [
        "# Define model\n",
        "melbourne_model3 = LinearRegression()"
      ],
      "metadata": {
        "id": "Rd5fad0oXoAq"
      },
      "execution_count": 41,
      "outputs": []
    },
    {
      "cell_type": "code",
      "source": [
        "# Fit model\n",
        "melbourne_model3.fit(train_X, train_y)"
      ],
      "metadata": {
        "colab": {
          "base_uri": "https://localhost:8080/"
        },
        "id": "1XcSs4u-XqB2",
        "outputId": "28455a87-1d79-49e5-9c0b-57643754e9b0"
      },
      "execution_count": 42,
      "outputs": [
        {
          "output_type": "execute_result",
          "data": {
            "text/plain": [
              "LinearRegression()"
            ]
          },
          "metadata": {},
          "execution_count": 42
        }
      ]
    },
    {
      "cell_type": "code",
      "source": [
        "# get predicted prices on validation data\n",
        "val_predictions3 = melbourne_model3.predict(test_X)\n",
        "print(mean_absolute_error(test_y, val_predictions3))"
      ],
      "metadata": {
        "colab": {
          "base_uri": "https://localhost:8080/"
        },
        "id": "e5f5QPdeXr2w",
        "outputId": "aa4df4ee-8251-4270-d2b8-6a869611d5ba"
      },
      "execution_count": 44,
      "outputs": [
        {
          "output_type": "stream",
          "name": "stdout",
          "text": [
            "311972.90739312745\n"
          ]
        }
      ]
    },
    {
      "cell_type": "markdown",
      "source": [
        "#### Our mean absolute error for the validation dataset is larger than 310K Dollars. This is better than previous models yet still too large to be considered production ready"
      ],
      "metadata": {
        "id": "xANNFhTzX0HK"
      }
    },
    {
      "cell_type": "code",
      "source": [],
      "metadata": {
        "id": "G6HZDXbGX9A2"
      },
      "execution_count": null,
      "outputs": []
    }
  ]
}